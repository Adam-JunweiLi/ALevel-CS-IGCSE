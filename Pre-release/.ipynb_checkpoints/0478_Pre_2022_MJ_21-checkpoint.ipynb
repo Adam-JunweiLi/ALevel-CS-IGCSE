{
 "cells": [
  {
   "cell_type": "markdown",
   "metadata": {
    "id": "Ddfvitdtnq5y"
   },
   "source": [
    "# Cambridge IGCSE \n",
    "Paper 2 Problem-solving and Programming \\\n",
    "0478/21\\\n",
    "May/June2022\n",
    "\n"
   ]
  },
  {
   "cell_type": "markdown",
   "metadata": {
    "id": "kDnCHblztRc6"
   },
   "source": [
    "## Scenario "
   ]
  },
  {
   "cell_type": "markdown",
   "metadata": {
    "id": "j31zcZcSplgq"
   },
   "source": [
    "\n",
    "In preparation for the examination candidates should attempt the following practical tasks by writing and testing a program or programs.\n",
    "\n",
    "在备考时，考生应该尝试以下实际编写和测试一个或多个程序。\n",
    "\n",
    "Friends of Seaview Pier is an organisation devoted to the restoration and upkeep of a pier in the town. A pier is a wooden structure that provides a walkway over the sea. The pier requires regular maintenance and the friends of the pier need to raise money for this purpose.\n",
    "\n",
    "海景码头之友是一个致力于修复和维护镇上码头的组织。码头是一种木制结构，提供了一个海上的通道。码头需要定期维护，码头的朋友需要为此筹集资金。\n",
    "\n",
    "Members of Friends of Seaview Pier each pay $75 per year, as a contribution to the pier’s running costs. This entitles them to free admission to the pier throughout the year. They can also volunteer to help run the pier, by working at the pier entrance gate, working in the gift shop, or painting and decorating. \\\n",
    "海景码头之友的会员每人每年支付75美元，作为码头运营成本的一部分。这使得他们全年都可以免费进入码头。他们也可以自愿帮助管理码头，在码头入口处工作，在礼品店工作，或油漆和装饰。\n",
    "\n",
    "To provide additional income, the pier’s wooden planks can be sponsored. A brass plaque, which contains a short message of the sponsor’s choice, is fitted to a plank on the pier, for a donation of $200.\\\n",
    "\n",
    "为了提供额外的收入，可以赞助码头的木板。码头上的一块木板上挂着一块铜匾，上面写着赞助商的信息，捐献200美元即可。\n",
    "\n",
    "Write and test a program or programs for the Friends of Seaview Pier:\n",
    "\n",
    "Your program or programs must include appropriate prompts for the entry of data. Data must be validated on entry.\n",
    "All outputs, including error messages, need to be set out clearly and understandably.\n",
    "All variables, constants and other identifiers must have meaningful names.\n",
    "\n",
    "为海景码头之友编写和测试一个或多个程序:\n",
    "\n",
    "您的程序或程序必须包含输入数据的适当提示。数据必须在输入时进行验证。\n",
    "所有输出，包括错误信息，都必须清楚和可理解地列出。\n",
    "所有变量、常量和其他标识符必须具有有意义的名称。\n",
    "\n",
    "You will need to complete these three tasks. Each task must be fully tested. \n",
    "\n",
    "你需要完成这三个任务。每项任务都必须经过充分的测试"
   ]
  },
  {
   "cell_type": "markdown",
   "metadata": {
    "id": "sRKlGuNBtXYP"
   },
   "source": [
    "## Task1"
   ]
  },
  {
   "cell_type": "markdown",
   "metadata": {
    "id": "ZKUz2eQhrnTG"
   },
   "source": [
    "\n",
    "Task1 - Becoming a member of Friends of Seaview Pier\n",
    "\n",
    "Set up a system to enable people to become members of Friends of Seaview Pier and for each new member enter:\n",
    "- their first name and last name\n",
    "- whether or not they wish to work as a volunteer\n",
    "  - if they choose to volunteer, identify the area from:\n",
    "    - the pier entrance gate\n",
    "    - the gift shop\n",
    "    - painting and decorating\n",
    "- the date of joining\n",
    "- whether or not they have paid the $75 fee.\n",
    "\n",
    "All of this information needs to be stored using suitable data structures.\n",
    "\n",
    "任务1:成为海景码头之友的会员\n",
    "建立一个系统，让人们成为海景码头之友的会员，每位新会员需进入:\n",
    "- 他们的姓和名\n",
    "- 不管他们是否愿意做志愿者\n",
    "  - 如果他们选择做志愿者，请从以下几个方面确定:\n",
    "    - 码头入口大门\n",
    "    - 礼品店\n",
    "    - 粉刷和装潢\n",
    "  - 加入日期\n",
    "  - 他们是否支付了75美元的费用。\n",
    "  \n",
    "所有这些信息都需要使用合适的数据结构进行存储。"
   ]
  },
  {
   "cell_type": "markdown",
   "metadata": {
    "id": "sa6h7NPWv_Ge"
   },
   "source": [
    "## Task1\n",
    "-------"
   ]
  },
  {
   "cell_type": "markdown",
   "metadata": {
    "id": "HRH77khTwrGG"
   },
   "source": [
    "## Task1 - Becoming a member of Friends of Seaview Peir"
   ]
  },
  {
   "cell_type": "markdown",
   "metadata": {
    "id": "ETdoDGSZJpx4"
   },
   "source": [
    "### Task1 - Identifier table\n",
    "\n",
    "\n",
    "| Identifier | Data type |Description                 |\n",
    "|:------------|:-----------|:----------------------------|\n",
    "| FirstName  | STRING  |Store the first name of members|\n",
    "|LastName|STRING|Store the last name of members|\n",
    "|isVolunteer|BOOLEAN|Store whether wish to be volunteer|\n",
    "|tpVolunteer|INTEGER|store the type of volunteer selected by members|\n",
    "|Date|DATE|store the date of joining (YYYY/MM/DD)|\n",
    "|isPaid| BOOLEAN| Store whether paid fee|\n",
    "\n",
    "\n",
    "\n"
   ]
  },
  {
   "cell_type": "markdown",
   "metadata": {
    "id": "FdyOWERjuwp2"
   },
   "source": [
    "### Task1 - Flowchart"
   ]
  },
  {
   "cell_type": "code",
   "execution_count": 2,
   "metadata": {
    "colab": {
     "base_uri": "https://localhost:8080/",
     "height": 453
    },
    "id": "bJP2OCQKtgR0",
    "outputId": "cb78f0cc-e38b-4638-ad70-385361774011",
    "scrolled": true
   },
   "outputs": [
    {
     "data": {
      "text/html": [
       "\n",
       "        <iframe\n",
       "            width=\"768\"\n",
       "            height=\"432\"\n",
       "            src=\"https://miro.com/app/live-embed/uXjVOWwhYP0=/?moveToViewport=-743,-594,1465,1551?frameBorder=0&scrolling=no\"\n",
       "            frameborder=\"0\"\n",
       "            allowfullscreen\n",
       "        ></iframe>\n",
       "        "
      ],
      "text/plain": [
       "<IPython.lib.display.IFrame at 0x7fa18d1d65d0>"
      ]
     },
     "execution_count": 2,
     "metadata": {},
     "output_type": "execute_result"
    }
   ],
   "source": [
    "from IPython.display import IFrame\n",
    "IFrame (width=\"768\", height=\"432\", src=\"https://miro.com/app/live-embed/uXjVOWwhYP0=/?moveToViewport=-743,-594,1465,1551\", frameBorder=\"0\", scrolling=\"no\")\n"
   ]
  },
  {
   "cell_type": "markdown",
   "metadata": {
    "id": "94uVyYYb2-m8"
   },
   "source": [
    "### *Task1 - Pseudocode*"
   ]
  },
  {
   "cell_type": "markdown",
   "metadata": {
    "id": "za7CNzqOjfO_"
   },
   "source": [
    "\n",
    "\n",
    "```\n",
    "OUTPUT \"Please enter first name: \"\n",
    "INPUT FirstName\n",
    "OUTPUT \"Please enter last name:\"\n",
    "INPUT LastName\n",
    "OUTPUT \"Do you want to be a volunteer? (TRUE/FALSE)\"\n",
    "INPUT isVolunteer\n",
    "\n",
    "IF isVolunteer = TRUE THEN\n",
    "  REPEAT\n",
    "    OUTPUT \"which type of volunteer do you want to be ? \"\n",
    "    OUTPUT \"1: Working at the pier of enterance gate\"\n",
    "    OUTPUT \"2:working in the gift shop\"\n",
    "    OUTPUT \"3:painting and decorating \"\n",
    "    INPUT tpVolunteer\n",
    "  UNTILE tpVolunteer =1 OR tpVolunteer=2 OR tpVolunteer =3 \n",
    "\n",
    "  OUTPUT \"When will you join us (YYYY/MM/DD)？ \"\n",
    "  INPUT joinDate\n",
    "\n",
    "  OUTPUT \"have you paid the fee? (TRUE/FALSE) \"\n",
    "  INPUT isPaid\n",
    "\n",
    "ENDIF \n",
    "```"
   ]
  },
  {
   "cell_type": "markdown",
   "metadata": {
    "id": "PbGKi8rV3KRv"
   },
   "source": [
    "### Task1 - Python"
   ]
  },
  {
   "cell_type": "code",
   "execution_count": 2,
   "metadata": {
    "colab": {
     "base_uri": "https://localhost:8080/"
    },
    "id": "FB7PBvyXtpps",
    "outputId": "59663002-ee2c-4d5a-bd30-a7907268ec86"
   },
   "outputs": [
    {
     "name": "stdout",
     "output_type": "stream",
     "text": [
      "Please enter \n",
      "First name: adam\n",
      "Last name: li\n",
      "Are you want to be a volunteer? (Y/N): yes\n",
      "There are 3 type of volunteer: \n",
      " 1: working at the pier entrance gate.\n",
      " 2:working in the gift shop.\n",
      " 3:painting and decorating\n",
      "1\n",
      "When will you join us (YYYY/MM/DD)？2022/01/01\n",
      "have you paid membership fee? (Y/N):yes\n"
     ]
    }
   ],
   "source": [
    "# appropriate prompt\n",
    "FirstName = input('Please enter \\nFirst name: ')\n",
    "LastName = input('Last name: ')\n",
    "\n",
    "# Type check - Boolean \n",
    "while True:\n",
    "  isVolunteer = input('Are you want to be a volunteer? (Y/N): ')\n",
    "  Pos = ['y', 'yes']\n",
    "  Neg = ['n', 'no']\n",
    "  if isVolunteer.lower() in Pos:\n",
    "    isVolunteer = True\n",
    "    break\n",
    "  elif isVolunteer in Neg:\n",
    "    isVolunteer = False\n",
    "    break\n",
    "  else:\n",
    "    print('Invalid input !!!')\n",
    "\n",
    "if isVolunteer: \n",
    "    # Range check - (1-3)\n",
    "    while True:\n",
    "      try:\n",
    "        tpVolunter = int(input(\"There are 3 type of volunteer: \\n 1: working at the pier entrance gate.\\n 2:working in the gift shop.\\n 3:painting and decorating\\n\"))\n",
    "        if tpVolunter >= 1 and tpVolunter <= 3 :\n",
    "          break\n",
    "        else:\n",
    "          print('Invalid input, Please input 1 or 2 or 3')\n",
    "      except ValueError:\n",
    "        print('Invalid input, Please input an integer 1 or 2 or 3')\n",
    "\n",
    "    # if do type check - date (import datetime)\n",
    "    joinDate = input(\"When will you join us (YYYY/MM/DD)？\")\n",
    "\n",
    "    # typy check - BOOLEAN\n",
    "    while True:\n",
    "      isPaid = input('have you paid membership fee? (Y/N):')\n",
    "      Pos = ['y', 'yes']\n",
    "      Neg = ['n', 'no']\n",
    "      if isPaid.lower() in Pos:\n",
    "        isPaid = True\n",
    "        break\n",
    "      elif isPaid in Neg:\n",
    "        isPaid = False\n",
    "        break\n",
    "      else:\n",
    "        print('Invalid input !!!')\n"
   ]
  },
  {
   "cell_type": "markdown",
   "metadata": {
    "id": "jUK7bKc5wzqO"
   },
   "source": [
    "## Task 2 - Using the membership data"
   ]
  },
  {
   "cell_type": "markdown",
   "metadata": {
    "id": "s1Erfnu52Zdc"
   },
   "source": [
    "Extend the program in Task 1 so that a list of the first and last names of members can be output in any of the following categories. \n",
    "\n",
    "- Members who have chosen to work as volunteers \n",
    "- Volunteers who would like to work at the pier entrance gate\n",
    "- Volunteers who would like to work in the gift shop\n",
    "- Volunteers who would like to help with painting and decorating tasks.\n",
    "- Members whose membership has expired (they have **not** re-joined this year)\n",
    "- Members who have ***not*** yet Paid their $75 fee. \n",
    "\n",
    "扩展Task 1中的程序，以便可以输出下列任何类别成员的姓和名。\n",
    "- 选择作为志愿者工作的成员\n",
    "- 志愿在码头入口处工作的志愿者\n",
    "- 想在礼品店工作的志愿者\n",
    "- 愿意帮助完成绘画和装饰任务的志愿者。\n",
    "- 成员资格已过期的成员\n",
    "- 尚未支付75美元会费的会员"
   ]
  },
  {
   "cell_type": "markdown",
   "metadata": {
    "id": "jEKUQqjyw68F"
   },
   "source": [
    "### Task2 - Identifier Table \n",
    "\n",
    "|Identifier|Data Type| Description |\n",
    "|:----------|:---------|:-------|\n",
    "|i|INTEGER|Count the number members|\n",
    "|FirstNames| ARRAT of STRING| Store the first name of members|\n",
    "|LastNames| ARRAY of STRING| Store the last name of members| \n",
    "|isVolunteers|ARRAY of BOOLEAN | Store whether to be volunteer in name order|\n",
    "|isPierVols| ARRAY of BOOLEAN| Store whether to be pier volunteer in name order| \n",
    "|IsGifVols|ARRAY of BOOLEAN| Store whether to be gift shop volunteer in name order| \n",
    "|isDecVols|ARRAY of BOOLEAN| Store whether to be painting and decorating volunteer in name order| \n",
    "|isExpireds| ARRAY of BOOLEAN|  Store whether to be expired in name order| \n",
    "|isPaids|ARRAY of BOOLEAN| Store whether paid the membership fee in name order| "
   ]
  },
  {
   "cell_type": "markdown",
   "metadata": {},
   "source": [
    "## Task2 - Pseudocode"
   ]
  },
  {
   "cell_type": "markdown",
   "metadata": {},
   "source": [
    "```\n",
    "// Declearation\n",
    "DECLARE FirstNames, LastNames : ARRAY[1:100] OF STRING\n",
    "DECLARE isVolunteers, isPierVols, isGifVols, isDecVols, isExpireds, isPaids: ARRAY [1:100] OF BOOLEAN\n",
    "\n",
    "DECLARE i : INTEGER \n",
    "\n",
    "i <-- 0 \n",
    "\n",
    "....task 1 pseudocode here\n",
    "\n",
    "FirstNames[i] <-- FirstName\n",
    "LastNames[i] <-- LastName\n",
    "isVolunteers[i] <-- isVolunteer\n",
    "\n",
    "isPierVols[i] <-- FALSE\n",
    "isGifVols[i] <-- FALSE\n",
    "isDecVols[i] <-- FALSE\n",
    "\n",
    "IF tpVolunteer = 1 THEN \n",
    "    isPierVols[i]<-- TURE\n",
    "ELSE\n",
    "    IF tpVolunteer = 2 THEN\n",
    "        isGifVols[i] <-- TRUE\n",
    "    ELSE\n",
    "        isDecVols[i] <-- TRUE\n",
    "    ENDIF\n",
    "ENDIF\n",
    "\n",
    "isExpireds <-- TRUE\n",
    "IF joinDate >= \"2022/01/01\" THEN\n",
    "    isExpireds <-- FALSE\n",
    "ENDIF\n",
    "\n",
    "isPaids[i] <-- isPaid\n",
    "```"
   ]
  },
  {
   "cell_type": "markdown",
   "metadata": {},
   "source": [
    "### Date checking Example"
   ]
  },
  {
   "cell_type": "code",
   "execution_count": 4,
   "metadata": {},
   "outputs": [
    {
     "name": "stdout",
     "output_type": "stream",
     "text": [
      "This is the incorrect date string format. It should be YYYY-MM-DD\n"
     ]
    }
   ],
   "source": [
    "import datetime\n",
    "date_string = '12-25-2018'\n",
    "format = \"%Y-%m-d\"\n",
    "\n",
    "try:\n",
    "  datetime.datetime.strptime(date_string, format)\n",
    "  print(\"This is the correct date string format.\")\n",
    "except ValueError:\n",
    "  print(\"This is the incorrect date string format. It should be YYYY-MM-DD\")"
   ]
  },
  {
   "cell_type": "markdown",
   "metadata": {
    "id": "NcGJxjGj4dOX"
   },
   "source": [
    "### Task2 - Python"
   ]
  },
  {
   "cell_type": "code",
   "execution_count": null,
   "metadata": {
    "colab": {
     "base_uri": "https://localhost:8080/"
    },
    "id": "HazPFO507f1x",
    "outputId": "45e04f64-fa1c-45b5-90ee-b1e8e58e8870"
   },
   "outputs": [],
   "source": [
    "%reset\n",
    "FirstNames = []   #STRING\n",
    "LastNames= []     #STRING\n",
    "isVolunteers = []  #BOOLEAN\n",
    "isPierVols = []   #BOOLEAN\n",
    "isGifVols = []    #BOOELAN\n",
    "isDecVols = []    #BOOLEAN\n",
    "isExpireds = []   #BOOLEAN\n",
    "isPaids = []      #BOOLEAN\n",
    "\n",
    "# This example only show how to register one member \n",
    "# IF you want to register many members, you can use whil\n",
    "\n",
    "# appropriate prompt\n",
    "FirstName = input('Please enter \\nFirst name: ')\n",
    "LastName = input('Last name: ')\n",
    "\n",
    "\n",
    "# Type check - Boolean \n",
    "##################################################################\n",
    "while True:\n",
    "  isVolunteer = input('Are you want to be a volunteer? (Y/N): ')\n",
    "  Pos = ['y', 'yes']\n",
    "  Neg = ['n', 'no']\n",
    "  if isVolunteer.lower() in Pos:\n",
    "    isVolunteer = True\n",
    "    break\n",
    "  elif isVolunteer in Neg:\n",
    "    isVolunteer = False\n",
    "    break\n",
    "  else:\n",
    "    print('Invalid input !!!')\n",
    "\n",
    "\n",
    "if isVolunteer: \n",
    "    # Range check - (1-3)\n",
    "    ###############################################################\n",
    "    while True:\n",
    "      try:\n",
    "        tpVolunter = int(input(\"There are 3 type of volunteer: \\n 1: working at the pier entrance gate.\\n 2:working in the gift shop.\\n 3:painting and decorating\\n\"))\n",
    "        if tpVolunter >= 1 and tpVolunter <= 3 :\n",
    "          break\n",
    "        else:\n",
    "          print('Invalid input, Please input 1 or 2 or 3')\n",
    "      except ValueError:\n",
    "        print('Invalid input, Please input an integer 1 or 2 or 3')\n",
    "\n",
    "    # if do type check - date (import datetime)\n",
    "    joinDate = input(\"When will you join us (YYYY/MM/DD)？\")\n",
    "\n",
    "    \n",
    "    # typy check - BOOLEAN\n",
    "    #################################################################\n",
    "    while True:\n",
    "      isPaid = input('have you paid membership fee? (Y/N): ')\n",
    "      Pos = ['y', 'yes']\n",
    "      Neg = ['n', 'no']\n",
    "      if isPaid.lower() in Pos:\n",
    "        isPaid = True\n",
    "        break\n",
    "      elif isPaid in Neg:\n",
    "        isPaid = False\n",
    "        break\n",
    "      else:\n",
    "        print('Invalid input !!!')\n",
    "\n",
    "### Task 2 \n",
    "FirstNames.append(FirstName)\n",
    "LastNames.append(LastName)\n",
    "isVolunteers.append(isVolunteer)\n",
    "\n",
    "isPierVols.append(False)\n",
    "isGifVols.append(False)\n",
    "isDecVols.append(False)\n",
    "\n",
    "if tpVolunter == 1:\n",
    "  isPierVols[-1] = True\n",
    "elif tpVolunter == 2:\n",
    "  isGifVols[-1] = True\n",
    "else:\n",
    "  isDecVols[-1] = True\n",
    "\n",
    "if joinDate >= \"2022/01/01\": # this year  \n",
    "  isExpireds.append(False)\n",
    "else:\n",
    "  isExpireds.append(True)\n",
    "isPaids.append(isPaid)\n",
    "\n",
    "\n",
    "# display the contents of each array \n",
    "print(FirstNames)\n",
    "print(LastNames)\n",
    "print(isVolunteers)\n",
    "print(isPierVols)\n",
    "print(isGifVols)\n",
    "print(isDecVols)\n",
    "print(isExpireds)\n",
    "print(isPaids)\n"
   ]
  },
  {
   "cell_type": "markdown",
   "metadata": {},
   "source": [
    "### Task 3 - Sponsoring a wooden plank"
   ]
  },
  {
   "cell_type": "markdown",
   "metadata": {},
   "source": [
    "Add an additional option to the program in Task 1 to enable the pier’s wooden planks to be sponsored. Separate data structures should be used to store the names of the individuals and the short messages they would like to have written on their brass plaque. An output would display everything that was input for the sponsor to confirm. If errors are found, the program should allow data to be re-entered. Once complete, the data is stored and the sponsor is charged $200.\n",
    "\n",
    "\n",
    "在任务1中添加一个额外的选项，使码头的木板可以被赞助。应该使用单独的数据结构来存储个人的名字和他们想写在他们的铜匾上的短消息。输出将显示赞助商需要确认的所有输入内容。如果发现错误，程序应允许重新输入数据。一旦完成，数据被存储，赞助商将被收取200美元的费用.\n"
   ]
  },
  {
   "cell_type": "code",
   "execution_count": 7,
   "metadata": {},
   "outputs": [
    {
     "name": "stdout",
     "output_type": "stream",
     "text": [
      "Please enter your first name: adam\n",
      "Please enter your last name: li\n",
      "do you want to be a sponsor? (y/n) y\n"
     ]
    },
    {
     "ename": "NameError",
     "evalue": "name 'isSponser' is not defined",
     "output_type": "error",
     "traceback": [
      "\u001b[0;31m---------------------------------------------------------------------------\u001b[0m",
      "\u001b[0;31mNameError\u001b[0m                                 Traceback (most recent call last)",
      "\u001b[0;32m<ipython-input-7-353d63210e91>\u001b[0m in \u001b[0;36m<module>\u001b[0;34m\u001b[0m\n\u001b[1;32m     16\u001b[0m         \u001b[0mprint\u001b[0m \u001b[0;34m(\u001b[0m\u001b[0;34m'Invalid input. please enter y, yes,n,no.'\u001b[0m\u001b[0;34m)\u001b[0m\u001b[0;34m\u001b[0m\u001b[0;34m\u001b[0m\u001b[0m\n\u001b[1;32m     17\u001b[0m \u001b[0;34m\u001b[0m\u001b[0m\n\u001b[0;32m---> 18\u001b[0;31m \u001b[0;32mif\u001b[0m \u001b[0misSponser\u001b[0m\u001b[0;34m:\u001b[0m\u001b[0;34m\u001b[0m\u001b[0;34m\u001b[0m\u001b[0m\n\u001b[0m\u001b[1;32m     19\u001b[0m     \u001b[0;32mwhile\u001b[0m \u001b[0;32mTrue\u001b[0m\u001b[0;34m:\u001b[0m\u001b[0;34m\u001b[0m\u001b[0;34m\u001b[0m\u001b[0m\n\u001b[1;32m     20\u001b[0m         \u001b[0mmessage\u001b[0m \u001b[0;34m=\u001b[0m \u001b[0minput\u001b[0m \u001b[0;34m(\u001b[0m\u001b[0;34m'what would you like to write on your brass plaque? '\u001b[0m\u001b[0;34m)\u001b[0m\u001b[0;34m\u001b[0m\u001b[0;34m\u001b[0m\u001b[0m\n",
      "\u001b[0;31mNameError\u001b[0m: name 'isSponser' is not defined"
     ]
    }
   ],
   "source": [
    "Sponsors = []\n",
    "messages = []\n",
    "\n",
    "FirstName = input ('Please enter your first name: ')\n",
    "LastName = input ('Please enter your last name: ')\n",
    "\n",
    "while True: \n",
    "    enter = input ('do you want to be a sponsor? (y/n) ')\n",
    "    if enter.lower() in ['y','yes']:\n",
    "        isSponsor = True\n",
    "        break\n",
    "    elif enter.lower() in ['n','no']:\n",
    "        isSponsor = False\n",
    "        break\n",
    "    else:\n",
    "        print ('Invalid input. please enter y, yes,n,no.')\n",
    "        \n",
    "if isSponsor:\n",
    "    while True:\n",
    "        message = input ('what would you like to write on your brass plaque? ')\n",
    "        print('the message you just enter is : ',message)\n",
    "        while True:\n",
    "            checked = input ('are you sure (y) or want to change (n)?')\n",
    "            if checked.lower() in ['y','yes']:\n",
    "                checked = True\n",
    "                break\n",
    "            elif checked.lower() in ['n','no']:\n",
    "                checked = False\n",
    "                break\n",
    "            else:\n",
    "                print ('Invalid input. please enter y, yes,n,no.')\n",
    "        if checked:\n",
    "            break\n",
    "        else:\n",
    "            continue\n",
    "         \n",
    "Sponsors.append(FirstName+LastName)\n",
    "messages.append(message)\n"
   ]
  },
  {
   "cell_type": "code",
   "execution_count": null,
   "metadata": {},
   "outputs": [],
   "source": []
  }
 ],
 "metadata": {
  "colab": {
   "collapsed_sections": [],
   "name": "0478_22_M_21_pre.ipynb",
   "provenance": []
  },
  "kernelspec": {
   "display_name": "Python 3",
   "language": "python",
   "name": "python3"
  },
  "language_info": {
   "codemirror_mode": {
    "name": "ipython",
    "version": 3
   },
   "file_extension": ".py",
   "mimetype": "text/x-python",
   "name": "python",
   "nbconvert_exporter": "python",
   "pygments_lexer": "ipython3",
   "version": "3.7.4"
  }
 },
 "nbformat": 4,
 "nbformat_minor": 1
}
